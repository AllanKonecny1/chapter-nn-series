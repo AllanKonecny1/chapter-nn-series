{
 "cells": [
  {
   "cell_type": "markdown",
   "source": [
    "Some text\n",
    "\\begin{equation}\n",
    "1 + 1 + \\sum_0^{infty} 0 = 4.\n",
    "\\end{equation}\n",
    "Another text\n",
    "$$4 - 1 - \\sum_0^{infty} 0 = 1;$$\n",
    "$$\\[1 - 4 + \\sum_0^{infty} 0 = -1;\\]$$\n",
    "Voila!\n"
   ],
   "metadata": {
    "collapsed": false
   }
  },
  {
   "cell_type": "markdown",
   "source": [
    "# Neural Networks\n",
    "\n",
    "### Goal of this series\n",
    "In this series, we will learn how to build a neural network from scratch. We will use python ans its libraries to build the network. I plan to explain a bit of the math, but I will not go into too much details. There also will be a code and some theory. This presentation is created as we go. Each chapter meeting I will create a new one. Everything will be available in git.\n",
    "\n",
    "### Prerequisites\n",
    "* You will need python. I will use python 3.10.\n",
    "* You can use Jupiter notebook (anaconda, intellij) as I do, or copy the cody into your IDE."
   ],
   "metadata": {
    "collapsed": false
   }
  },
  {
   "cell_type": "code",
   "execution_count": null,
   "outputs": [],
   "source": [],
   "metadata": {
    "collapsed": false
   }
  }
 ],
 "metadata": {
  "kernelspec": {
   "display_name": "Python 3",
   "language": "python",
   "name": "python3"
  },
  "language_info": {
   "codemirror_mode": {
    "name": "ipython",
    "version": 2
   },
   "file_extension": ".py",
   "mimetype": "text/x-python",
   "name": "python",
   "nbconvert_exporter": "python",
   "pygments_lexer": "ipython2",
   "version": "2.7.6"
  }
 },
 "nbformat": 4,
 "nbformat_minor": 0
}
